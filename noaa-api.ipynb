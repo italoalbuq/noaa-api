{
 "cells": [
  {
   "cell_type": "code",
   "execution_count": 1,
   "id": "14960808",
   "metadata": {},
   "outputs": [],
   "source": [
    "import requests\n",
    "import pandas as pd\n",
    "import json\n",
    "import numpy as np\n",
    "from datetime import datetime"
   ]
  },
  {
   "cell_type": "code",
   "execution_count": 2,
   "id": "53034d44",
   "metadata": {},
   "outputs": [],
   "source": [
    "base_url = \"https://www.ncei.noaa.gov/cdo-web/api/v2/stations/\""
   ]
  },
  {
   "cell_type": "code",
   "execution_count": 3,
   "id": "8e39a5a5",
   "metadata": {},
   "outputs": [],
   "source": [
    "headers = {\n",
    "    \"token\": \"eKdUmLLAhjeyvstJGLpqIwIKRqYzqgXQ\",\n",
    "}"
   ]
  },
  {
   "cell_type": "code",
   "execution_count": 4,
   "id": "1753b719",
   "metadata": {},
   "outputs": [],
   "source": [
    "stationid = 'COOP:010008'"
   ]
  },
  {
   "cell_type": "code",
   "execution_count": 5,
   "id": "3666fed1",
   "metadata": {},
   "outputs": [
    {
     "data": {
      "text/plain": [
       "'https://www.ncei.noaa.gov/cdo-web/api/v2/stations/COOP:010008'"
      ]
     },
     "execution_count": 5,
     "metadata": {},
     "output_type": "execute_result"
    }
   ],
   "source": [
    "complete_URL = base_url + stationid\n",
    "complete_URL"
   ]
  },
  {
   "cell_type": "code",
   "execution_count": 6,
   "id": "d5ac6652",
   "metadata": {},
   "outputs": [
    {
     "data": {
      "text/plain": [
       "<Response [200]>"
      ]
     },
     "execution_count": 6,
     "metadata": {},
     "output_type": "execute_result"
    }
   ],
   "source": [
    "response = requests.get(complete_URL, headers=headers)\n",
    "response"
   ]
  },
  {
   "cell_type": "code",
   "execution_count": 7,
   "id": "988084a6",
   "metadata": {},
   "outputs": [
    {
     "name": "stdout",
     "output_type": "stream",
     "text": [
      "{'elevation': 139, 'mindate': '1948-01-01', 'maxdate': '2014-01-01', 'latitude': 31.5702, 'name': 'ABBEVILLE, AL US', 'datacoverage': 0.8813, 'id': 'COOP:010008', 'elevationUnit': 'METERS', 'longitude': -85.2482}\n"
     ]
    }
   ],
   "source": [
    "if response.status_code == 200:\n",
    "    data = response.json()\n",
    "    # Faça o que precisar com os dados\n",
    "    print(data)\n",
    "else:\n",
    "    print(\"Erro ao fazer a requisição:\", response.status_code)"
   ]
  },
  {
   "cell_type": "code",
   "execution_count": null,
   "id": "082344a5",
   "metadata": {},
   "outputs": [],
   "source": []
  }
 ],
 "metadata": {
  "kernelspec": {
   "display_name": "Python 3 (ipykernel)",
   "language": "python",
   "name": "python3"
  },
  "language_info": {
   "codemirror_mode": {
    "name": "ipython",
    "version": 3
   },
   "file_extension": ".py",
   "mimetype": "text/x-python",
   "name": "python",
   "nbconvert_exporter": "python",
   "pygments_lexer": "ipython3",
   "version": "3.9.13"
  }
 },
 "nbformat": 4,
 "nbformat_minor": 5
}
